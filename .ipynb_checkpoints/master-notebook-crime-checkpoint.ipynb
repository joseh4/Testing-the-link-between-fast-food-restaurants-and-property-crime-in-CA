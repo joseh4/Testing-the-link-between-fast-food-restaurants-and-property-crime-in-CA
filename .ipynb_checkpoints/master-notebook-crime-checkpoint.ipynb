{
 "cells": [
  {
   "cell_type": "code",
   "execution_count": 1,
   "metadata": {},
   "outputs": [],
   "source": [
    "import scipy.stats as stats\n",
    "import requests\n",
    "from bs4 import BeautifulSoup\n",
    "import seaborn as sns\n",
    "import pandas as pd\n",
    "import numpy as np\n",
    "import matplotlib.pyplot as plt\n",
    "%matplotlib inline"
   ]
  },
  {
   "cell_type": "code",
   "execution_count": 2,
   "metadata": {},
   "outputs": [],
   "source": [
    "df = pd.read_csv('OnlineArrestData1980-2018.csv')"
   ]
  },
  {
   "cell_type": "markdown",
   "metadata": {},
   "source": [
    "#### The function below lets you input a county from the list of counties from the dataframe and retrieves the different arrest types as well as the grand total of arrests for each county. The function will tell you male and female arrests for each type as well. The function is specific to 2018 arrests."
   ]
  },
  {
   "cell_type": "code",
   "execution_count": 3,
   "metadata": {},
   "outputs": [],
   "source": [
    "def county_crime_totals(df, county):\n",
    "    df = df.loc[df['COUNTY'] == county]\n",
    "    df = df.loc[df['YEAR'] == 2018]\n",
    "\n",
    "    \"\"\"the following is for the sum of crimes between the two genders\"\"\"\n",
    "    violent_crimes = df.VIOLENT.sum()\n",
    "    property_crimes = df.PROPERTY.sum()\n",
    "    felony_drug_offenses = df.F_DRUGOFF.sum()\n",
    "    f_sex = df.F_SEXOFF.sum()\n",
    "    f_other = df.F_ALLOTHER.sum()\n",
    "    misdemeanor = df.M_TOTAL.sum()\n",
    "    status = df.S_TOTAL.sum()\n",
    "    total_arrests = violent_crimes+property_crimes + \\\n",
    "        felony_drug_offenses+f_sex+f_other+misdemeanor+status\n",
    "\n",
    "    \"\"\"crimes for males only\"\"\"\n",
    "    crime_total_males = df[df.GENDER != 'Female']\n",
    "    male_violent_crimes = crime_total_males.VIOLENT.sum()\n",
    "    male_property_crimes = crime_total_males.PROPERTY.sum()\n",
    "    male_felony_drug_offenses = crime_total_males.F_DRUGOFF.sum()\n",
    "    male_f_sex = crime_total_males.F_SEXOFF.sum()\n",
    "    male_f_other = crime_total_males.F_ALLOTHER.sum()\n",
    "    male_misdemeanor = crime_total_males.M_TOTAL.sum()\n",
    "    male_status = crime_total_males.S_TOTAL.sum()\n",
    "    male_total_arrests = male_violent_crimes+male_property_crimes + \\\n",
    "        male_felony_drug_offenses+male_f_sex+male_f_other+male_misdemeanor+male_status\n",
    "\n",
    "    \"\"\"crimes for females only\"\"\"\n",
    "    crime_total_females = df[df.GENDER != 'Male']\n",
    "    female_violent_crimes = crime_total_females.VIOLENT.sum()\n",
    "    female_property_crimes = crime_total_females.PROPERTY.sum()\n",
    "    female_felony_drug_offenses = crime_total_females.F_DRUGOFF.sum()\n",
    "    female_f_sex = crime_total_females.F_SEXOFF.sum()\n",
    "    female_f_other = crime_total_females.F_ALLOTHER.sum()\n",
    "    female_misdemeanor = crime_total_females.M_TOTAL.sum()\n",
    "    female_status = crime_total_females.S_TOTAL.sum()\n",
    "    female_total_arrests = female_violent_crimes+female_property_crimes + \\\n",
    "        female_felony_drug_offenses+female_f_sex + \\\n",
    "        female_f_other+female_misdemeanor+female_status\n",
    "\n",
    "    totals = (f'The total arrests in 2018 for violent_crimes in {county} county is: {violent_crimes}\\n'\n",
    "              f'The total arrests in 2018 for property crimes in {county} is {property_crimes}\\n'\n",
    "              f'The total arrests in 2018 for felony drug offenses in {county} is: {felony_drug_offenses}\\n'\n",
    "              f'The total arrests in 2018 for felony sex offenses in {county} is: {f_sex}\\n'\n",
    "              f'The total arrests in 2018 for other felony offenses in {county} is: {f_other}\\n'\n",
    "              f'The total arrests in 2018 for misdemeanors in {county} is: {misdemeanor}\\n'\n",
    "              f'The total arrests in 2018 for status violations in {county} is: {status}\\n'\n",
    "              f'The total number of arrests in {county} in 2018 was {total_arrests}')\n",
    "\n",
    "    males = (f'The male arrests in 2018 for violent crimes in {county} county is: {male_violent_crimes}\\n'\n",
    "             f'The male arrests in 2018 for property crimes in {county} is {male_property_crimes}\\n'\n",
    "             f'The male arrests in 2018 for felony drug offenses in {county} is: {male_felony_drug_offenses}\\n'\n",
    "             f'The male arrests in 2018 for felony sex offenses in {county} is: {male_f_sex}\\n'\n",
    "             f'The male arrests in 2018 for other felony offenses in {county} is: {male_f_other}\\n'\n",
    "             f'The male arrests in 2018 for misdemeanors in {county} is: {male_misdemeanor}\\n'\n",
    "             f'The male arrests in 2018 for status violations in {county} is: {male_status}\\n'\n",
    "             f'The total number of male arrests in {county} in 2018 was {male_total_arrests}')\n",
    "\n",
    "    females = (f'The female arrests in 2018 for violent crimes in {county} county is: {female_violent_crimes}\\n'\n",
    "               f'The female arrests in 2018 for property crimes in {county} is {female_property_crimes}\\n'\n",
    "               f'The female arrests in 2018 for felony drug offenses in {county} is: {female_felony_drug_offenses}\\n'\n",
    "               f'The female arrests in 2018 for felony sex offenses in {county} is: {female_f_sex}\\n'\n",
    "               f'The female arrests in 2018 for other felony offenses in {county} is: {female_f_other}\\n'\n",
    "               f'The female arrests in 2018 for misdemeanors in {county} is: {female_misdemeanor}\\n'\n",
    "               f'The female arrests in 2018 for status violations in {county} is: {female_status}\\n'\n",
    "               f'The total number of female arrests in {county} in 2018 was {female_total_arrests}')\n",
    "\n",
    "    print(totals)\n",
    "    print('\\n')\n",
    "    print(males)\n",
    "    print('\\n')\n",
    "    print(females)"
   ]
  },
  {
   "cell_type": "code",
   "execution_count": 4,
   "metadata": {},
   "outputs": [
    {
     "name": "stdout",
     "output_type": "stream",
     "text": [
      "The total arrests in 2018 for violent_crimes in Los Angeles County county is: 28865\n",
      "The total arrests in 2018 for property crimes in Los Angeles County is 18901\n",
      "The total arrests in 2018 for felony drug offenses in Los Angeles County is: 6412\n",
      "The total arrests in 2018 for felony sex offenses in Los Angeles County is: 1029\n",
      "The total arrests in 2018 for other felony offenses in Los Angeles County is: 18256\n",
      "The total arrests in 2018 for misdemeanors in Los Angeles County is: 172389\n",
      "The total arrests in 2018 for status violations in Los Angeles County is: 347\n",
      "The total number of arrests in Los Angeles County in 2018 was 246199\n",
      "\n",
      "\n",
      "The male arrests in 2018 for violent crimes in Los Angeles County county is: 22619\n",
      "The male arrests in 2018 for property crimes in Los Angeles County is 14261\n",
      "The male arrests in 2018 for felony drug offenses in Los Angeles County is: 5309\n",
      "The male arrests in 2018 for felony sex offenses in Los Angeles County is: 1003\n",
      "The male arrests in 2018 for other felony offenses in Los Angeles County is: 15553\n",
      "The male arrests in 2018 for misdemeanors in Los Angeles County is: 133048\n",
      "The male arrests in 2018 for status violations in Los Angeles County is: 249\n",
      "The total number of male arrests in Los Angeles County in 2018 was 192042\n",
      "\n",
      "\n",
      "The female arrests in 2018 for violent crimes in Los Angeles County county is: 6246\n",
      "The female arrests in 2018 for property crimes in Los Angeles County is 4640\n",
      "The female arrests in 2018 for felony drug offenses in Los Angeles County is: 1103\n",
      "The female arrests in 2018 for felony sex offenses in Los Angeles County is: 26\n",
      "The female arrests in 2018 for other felony offenses in Los Angeles County is: 2703\n",
      "The female arrests in 2018 for misdemeanors in Los Angeles County is: 39341\n",
      "The female arrests in 2018 for status violations in Los Angeles County is: 98\n",
      "The total number of female arrests in Los Angeles County in 2018 was 54157\n"
     ]
    }
   ],
   "source": [
    "county_crime_totals(df, 'Los Angeles County')"
   ]
  },
  {
   "cell_type": "markdown",
   "metadata": {},
   "source": [
    "#### This is for ranking each the amount of property crime each gender was arrested for and what county they are in for the year 2018."
   ]
  },
  {
   "cell_type": "code",
   "execution_count": 5,
   "metadata": {
    "jupyter": {
     "source_hidden": true
    }
   },
   "outputs": [
    {
     "data": {
      "text/html": [
       "<div>\n",
       "<style scoped>\n",
       "    .dataframe tbody tr th:only-of-type {\n",
       "        vertical-align: middle;\n",
       "    }\n",
       "\n",
       "    .dataframe tbody tr th {\n",
       "        vertical-align: top;\n",
       "    }\n",
       "\n",
       "    .dataframe thead th {\n",
       "        text-align: right;\n",
       "    }\n",
       "</style>\n",
       "<table border=\"1\" class=\"dataframe\">\n",
       "  <thead>\n",
       "    <tr style=\"text-align: right;\">\n",
       "      <th></th>\n",
       "      <th>COUNTY</th>\n",
       "      <th>GENDER</th>\n",
       "      <th>YEAR</th>\n",
       "      <th>PROPERTY</th>\n",
       "    </tr>\n",
       "  </thead>\n",
       "  <tbody>\n",
       "    <tr>\n",
       "      <td>37</td>\n",
       "      <td>Los Angeles County</td>\n",
       "      <td>Male</td>\n",
       "      <td>2018</td>\n",
       "      <td>14261</td>\n",
       "    </tr>\n",
       "    <tr>\n",
       "      <td>71</td>\n",
       "      <td>San Bernardino County</td>\n",
       "      <td>Male</td>\n",
       "      <td>2018</td>\n",
       "      <td>5334</td>\n",
       "    </tr>\n",
       "    <tr>\n",
       "      <td>36</td>\n",
       "      <td>Los Angeles County</td>\n",
       "      <td>Female</td>\n",
       "      <td>2018</td>\n",
       "      <td>4640</td>\n",
       "    </tr>\n",
       "    <tr>\n",
       "      <td>59</td>\n",
       "      <td>Orange County</td>\n",
       "      <td>Male</td>\n",
       "      <td>2018</td>\n",
       "      <td>3635</td>\n",
       "    </tr>\n",
       "    <tr>\n",
       "      <td>73</td>\n",
       "      <td>San Diego County</td>\n",
       "      <td>Male</td>\n",
       "      <td>2018</td>\n",
       "      <td>3163</td>\n",
       "    </tr>\n",
       "  </tbody>\n",
       "</table>\n",
       "</div>"
      ],
      "text/plain": [
       "                   COUNTY  GENDER  YEAR  PROPERTY\n",
       "37     Los Angeles County    Male  2018     14261\n",
       "71  San Bernardino County    Male  2018      5334\n",
       "36     Los Angeles County  Female  2018      4640\n",
       "59          Orange County    Male  2018      3635\n",
       "73       San Diego County    Male  2018      3163"
      ]
     },
     "execution_count": 5,
     "metadata": {},
     "output_type": "execute_result"
    }
   ],
   "source": [
    "gender_crime = df.drop(columns=['VIOLENT', 'RACE', 'F_DRUGOFF',\n",
    "                                'F_SEXOFF', 'F_ALLOTHER', 'F_TOTAL', 'M_TOTAL', 'S_TOTAL'])\n",
    "gender_crime = gender_crime[gender_crime.YEAR == 2018]\n",
    "gender_crime = gender_crime.groupby(\n",
    "    ['COUNTY', 'GENDER', 'YEAR']).sum().reset_index()\n",
    "gender_crime = gender_crime.sort_values('PROPERTY', ascending=False)\n",
    "gender_crime.head()"
   ]
  },
  {
   "cell_type": "markdown",
   "metadata": {},
   "source": [
    "#### This is for ranking each county for total amount of property crime for the year 2018."
   ]
  },
  {
   "cell_type": "code",
   "execution_count": 6,
   "metadata": {
    "jupyter": {
     "source_hidden": true
    }
   },
   "outputs": [
    {
     "data": {
      "text/html": [
       "<div>\n",
       "<style scoped>\n",
       "    .dataframe tbody tr th:only-of-type {\n",
       "        vertical-align: middle;\n",
       "    }\n",
       "\n",
       "    .dataframe tbody tr th {\n",
       "        vertical-align: top;\n",
       "    }\n",
       "\n",
       "    .dataframe thead th {\n",
       "        text-align: right;\n",
       "    }\n",
       "</style>\n",
       "<table border=\"1\" class=\"dataframe\">\n",
       "  <thead>\n",
       "    <tr style=\"text-align: right;\">\n",
       "      <th></th>\n",
       "      <th>COUNTY</th>\n",
       "      <th>YEAR</th>\n",
       "      <th>PROPERTY</th>\n",
       "    </tr>\n",
       "  </thead>\n",
       "  <tbody>\n",
       "    <tr>\n",
       "      <td>18</td>\n",
       "      <td>Los Angeles County</td>\n",
       "      <td>2018</td>\n",
       "      <td>18901</td>\n",
       "    </tr>\n",
       "    <tr>\n",
       "      <td>35</td>\n",
       "      <td>San Bernardino County</td>\n",
       "      <td>2018</td>\n",
       "      <td>7310</td>\n",
       "    </tr>\n",
       "    <tr>\n",
       "      <td>29</td>\n",
       "      <td>Orange County</td>\n",
       "      <td>2018</td>\n",
       "      <td>4877</td>\n",
       "    </tr>\n",
       "    <tr>\n",
       "      <td>36</td>\n",
       "      <td>San Diego County</td>\n",
       "      <td>2018</td>\n",
       "      <td>4140</td>\n",
       "    </tr>\n",
       "    <tr>\n",
       "      <td>32</td>\n",
       "      <td>Riverside County</td>\n",
       "      <td>2018</td>\n",
       "      <td>3565</td>\n",
       "    </tr>\n",
       "  </tbody>\n",
       "</table>\n",
       "</div>"
      ],
      "text/plain": [
       "                   COUNTY  YEAR  PROPERTY\n",
       "18     Los Angeles County  2018     18901\n",
       "35  San Bernardino County  2018      7310\n",
       "29          Orange County  2018      4877\n",
       "36       San Diego County  2018      4140\n",
       "32       Riverside County  2018      3565"
      ]
     },
     "execution_count": 6,
     "metadata": {},
     "output_type": "execute_result"
    }
   ],
   "source": [
    "county_crime = df.drop(columns=['VIOLENT', 'RACE', 'F_DRUGOFF',\n",
    "                                'F_SEXOFF', 'F_ALLOTHER', 'F_TOTAL', 'M_TOTAL', 'S_TOTAL'])\n",
    "county_crime = county_crime[county_crime.YEAR == 2018]\n",
    "county_crime = county_crime.groupby(['COUNTY', 'YEAR']).sum().reset_index()\n",
    "county_crime = county_crime.sort_values('PROPERTY', ascending=False)\n",
    "county_crime.head()"
   ]
  },
  {
   "cell_type": "markdown",
   "metadata": {},
   "source": [
    "##### To get the percent or property arrests for each county, we need tht population for each county. I retrieved my information from california-demographics.com. From there I retrieved the populations from each county. I do not need rank, so I'll drop it. Then merge previous tables so arrests are on one table."
   ]
  },
  {
   "cell_type": "code",
   "execution_count": 7,
   "metadata": {},
   "outputs": [
    {
     "data": {
      "text/html": [
       "<div>\n",
       "<style scoped>\n",
       "    .dataframe tbody tr th:only-of-type {\n",
       "        vertical-align: middle;\n",
       "    }\n",
       "\n",
       "    .dataframe tbody tr th {\n",
       "        vertical-align: top;\n",
       "    }\n",
       "\n",
       "    .dataframe thead th {\n",
       "        text-align: right;\n",
       "    }\n",
       "</style>\n",
       "<table border=\"1\" class=\"dataframe\">\n",
       "  <thead>\n",
       "    <tr style=\"text-align: right;\">\n",
       "      <th></th>\n",
       "      <th>County</th>\n",
       "      <th>population</th>\n",
       "      <th>year</th>\n",
       "      <th>property</th>\n",
       "      <th>percentage</th>\n",
       "    </tr>\n",
       "  </thead>\n",
       "  <tbody>\n",
       "    <tr>\n",
       "      <td>45</td>\n",
       "      <td>Sierra County</td>\n",
       "      <td>2987</td>\n",
       "      <td>2018.0</td>\n",
       "      <td>15</td>\n",
       "      <td>0.005022</td>\n",
       "    </tr>\n",
       "    <tr>\n",
       "      <td>35</td>\n",
       "      <td>San Bernardino County</td>\n",
       "      <td>2171603</td>\n",
       "      <td>2018.0</td>\n",
       "      <td>7310</td>\n",
       "      <td>0.003366</td>\n",
       "    </tr>\n",
       "    <tr>\n",
       "      <td>53</td>\n",
       "      <td>Tulare County</td>\n",
       "      <td>465861</td>\n",
       "      <td>2018.0</td>\n",
       "      <td>1495</td>\n",
       "      <td>0.003209</td>\n",
       "    </tr>\n",
       "    <tr>\n",
       "      <td>14</td>\n",
       "      <td>Kern County</td>\n",
       "      <td>896764</td>\n",
       "      <td>2018.0</td>\n",
       "      <td>2607</td>\n",
       "      <td>0.002907</td>\n",
       "    </tr>\n",
       "    <tr>\n",
       "      <td>50</td>\n",
       "      <td>Sutter County</td>\n",
       "      <td>96807</td>\n",
       "      <td>2018.0</td>\n",
       "      <td>254</td>\n",
       "      <td>0.002624</td>\n",
       "    </tr>\n",
       "  </tbody>\n",
       "</table>\n",
       "</div>"
      ],
      "text/plain": [
       "                   County  population    year  property  percentage\n",
       "45          Sierra County        2987  2018.0        15    0.005022\n",
       "35  San Bernardino County     2171603  2018.0      7310    0.003366\n",
       "53          Tulare County      465861  2018.0      1495    0.003209\n",
       "14            Kern County      896764  2018.0      2607    0.002907\n",
       "50          Sutter County       96807  2018.0       254    0.002624"
      ]
     },
     "execution_count": 7,
     "metadata": {},
     "output_type": "execute_result"
    }
   ],
   "source": [
    "\"\"\"webscrape populations from website\"\"\"\n",
    "page = requests.get(\n",
    "    'https://www.california-demographics.com/counties_by_population')\n",
    "soup = BeautifulSoup(page.content, 'html.parser')\n",
    "container = pd.read_html(page.content)\n",
    "container = pd.DataFrame(container[0])\n",
    "container.drop(columns=['Rank'], inplace=True)\n",
    "\n",
    "\"\"\"now to combine tables\"\"\"\n",
    "combined_table = container.join(county_crime.set_index('COUNTY'), on='County')\n",
    "combined_table = combined_table.drop(58, axis=0)\n",
    "combined_table = combined_table.astype({'Population': int, 'PROPERTY': int})\n",
    "percentage = (combined_table['PROPERTY']/combined_table['Population'])\n",
    "combined_table['percentage'] = percentage\n",
    "combined_table = combined_table.groupby(['County']).sum().reset_index()\n",
    "combined_table = combined_table.sort_values('percentage', ascending=False)\n",
    "combined_table.rename(columns={'YEAR': 'year', 'PROPERTY': 'property', 'County': 'County', 'Population': 'population'},\n",
    "                      inplace=True)\n",
    "\n",
    "\"\"\"Ascending = False will put it in order from greatest to least by percentage\"\"\"\n",
    "combined_table.head()"
   ]
  },
  {
   "cell_type": "markdown",
   "metadata": {},
   "source": [
    "##### The top 5 and bottom 5 counties for male arrests"
   ]
  },
  {
   "cell_type": "code",
   "execution_count": 8,
   "metadata": {},
   "outputs": [
    {
     "data": {
      "text/html": [
       "<div>\n",
       "<style scoped>\n",
       "    .dataframe tbody tr th:only-of-type {\n",
       "        vertical-align: middle;\n",
       "    }\n",
       "\n",
       "    .dataframe tbody tr th {\n",
       "        vertical-align: top;\n",
       "    }\n",
       "\n",
       "    .dataframe thead th {\n",
       "        text-align: right;\n",
       "    }\n",
       "</style>\n",
       "<table border=\"1\" class=\"dataframe\">\n",
       "  <thead>\n",
       "    <tr style=\"text-align: right;\">\n",
       "      <th></th>\n",
       "      <th>County</th>\n",
       "      <th>Population</th>\n",
       "      <th>GENDER</th>\n",
       "      <th>YEAR</th>\n",
       "      <th>PROPERTY</th>\n",
       "      <th>Male Percent</th>\n",
       "    </tr>\n",
       "  </thead>\n",
       "  <tbody>\n",
       "    <tr>\n",
       "      <td>56</td>\n",
       "      <td>Sierra County</td>\n",
       "      <td>2987</td>\n",
       "      <td>Male</td>\n",
       "      <td>2018.0</td>\n",
       "      <td>11</td>\n",
       "      <td>0.003683</td>\n",
       "    </tr>\n",
       "    <tr>\n",
       "      <td>4</td>\n",
       "      <td>San Bernardino County</td>\n",
       "      <td>2171603</td>\n",
       "      <td>Male</td>\n",
       "      <td>2018.0</td>\n",
       "      <td>5334</td>\n",
       "      <td>0.002456</td>\n",
       "    </tr>\n",
       "    <tr>\n",
       "      <td>17</td>\n",
       "      <td>Tulare County</td>\n",
       "      <td>465861</td>\n",
       "      <td>Male</td>\n",
       "      <td>2018.0</td>\n",
       "      <td>1092</td>\n",
       "      <td>0.002344</td>\n",
       "    </tr>\n",
       "    <tr>\n",
       "      <td>10</td>\n",
       "      <td>Kern County</td>\n",
       "      <td>896764</td>\n",
       "      <td>Male</td>\n",
       "      <td>2018.0</td>\n",
       "      <td>2064</td>\n",
       "      <td>0.002302</td>\n",
       "    </tr>\n",
       "    <tr>\n",
       "      <td>54</td>\n",
       "      <td>Trinity County</td>\n",
       "      <td>12535</td>\n",
       "      <td>Male</td>\n",
       "      <td>2018.0</td>\n",
       "      <td>24</td>\n",
       "      <td>0.001915</td>\n",
       "    </tr>\n",
       "  </tbody>\n",
       "</table>\n",
       "</div>"
      ],
      "text/plain": [
       "                   County  Population GENDER    YEAR  PROPERTY  Male Percent\n",
       "56          Sierra County        2987   Male  2018.0        11      0.003683\n",
       "4   San Bernardino County     2171603   Male  2018.0      5334      0.002456\n",
       "17          Tulare County      465861   Male  2018.0      1092      0.002344\n",
       "10            Kern County      896764   Male  2018.0      2064      0.002302\n",
       "54         Trinity County       12535   Male  2018.0        24      0.001915"
      ]
     },
     "execution_count": 8,
     "metadata": {},
     "output_type": "execute_result"
    }
   ],
   "source": [
    "# Filter the dataframe for only male crimes in 2018 and drop unneccessary columns\n",
    "male_crimes = df[df['GENDER'] != 'Female']\n",
    "male_crimes = male_crimes[male_crimes['YEAR'] == 2018]\n",
    "male_crimes = male_crimes.drop(columns=[\n",
    "                               'VIOLENT', 'RACE', 'F_DRUGOFF', 'F_SEXOFF', 'F_ALLOTHER', 'F_TOTAL', 'M_TOTAL', 'S_TOTAL'])\n",
    "male_crimes = male_crimes.groupby(\n",
    "    ['GENDER', 'COUNTY', 'YEAR']).sum().reset_index()\n",
    "\n",
    "# Set a variable so I have the greatest percent for males\n",
    "top_male_counties = container.join(\n",
    "    male_crimes.set_index('COUNTY'), on='County')\n",
    "top_male_counties = top_male_counties.drop(58, axis=0)\n",
    "\n",
    "# Make sure property and population are integers so I can divide them\n",
    "top_male_counties = top_male_counties.astype(\n",
    "    {'PROPERTY': int, 'Population': int})\n",
    "male_percent = (top_male_counties['PROPERTY']/top_male_counties['Population'])\n",
    "top_male_counties['Male Percent'] = male_percent\n",
    "\n",
    "# I want the table to be in descending order, so I set ascending=False\n",
    "top_male_counties = top_male_counties.sort_values(\n",
    "    'Male Percent', ascending=False)\n",
    "\n",
    "# The top 5 is the first 5 entires of this table, so i can set top_5 equal to the first 5\n",
    "top_5_male_counties = top_male_counties[:5]\n",
    "top_5_male_counties"
   ]
  },
  {
   "cell_type": "code",
   "execution_count": 9,
   "metadata": {},
   "outputs": [
    {
     "name": "stdout",
     "output_type": "stream",
     "text": [
      "The average crime rate per county amongst males is: 0.0013619698296238136\n"
     ]
    }
   ],
   "source": [
    "male_avg = top_male_counties['Male Percent'].mean()\n",
    "print(f'The average crime rate per county amongst males is: {male_avg}')"
   ]
  },
  {
   "cell_type": "code",
   "execution_count": 10,
   "metadata": {},
   "outputs": [
    {
     "data": {
      "text/html": [
       "<div>\n",
       "<style scoped>\n",
       "    .dataframe tbody tr th:only-of-type {\n",
       "        vertical-align: middle;\n",
       "    }\n",
       "\n",
       "    .dataframe tbody tr th {\n",
       "        vertical-align: top;\n",
       "    }\n",
       "\n",
       "    .dataframe thead th {\n",
       "        text-align: right;\n",
       "    }\n",
       "</style>\n",
       "<table border=\"1\" class=\"dataframe\">\n",
       "  <thead>\n",
       "    <tr style=\"text-align: right;\">\n",
       "      <th></th>\n",
       "      <th>County</th>\n",
       "      <th>Population</th>\n",
       "      <th>GENDER</th>\n",
       "      <th>YEAR</th>\n",
       "      <th>PROPERTY</th>\n",
       "      <th>Male Percent</th>\n",
       "    </tr>\n",
       "  </thead>\n",
       "  <tbody>\n",
       "    <tr>\n",
       "      <td>22</td>\n",
       "      <td>San Luis Obispo County</td>\n",
       "      <td>284010</td>\n",
       "      <td>Male</td>\n",
       "      <td>2018.0</td>\n",
       "      <td>245</td>\n",
       "      <td>0.000863</td>\n",
       "    </tr>\n",
       "    <tr>\n",
       "      <td>45</td>\n",
       "      <td>Amador County</td>\n",
       "      <td>39383</td>\n",
       "      <td>Male</td>\n",
       "      <td>2018.0</td>\n",
       "      <td>30</td>\n",
       "      <td>0.000762</td>\n",
       "    </tr>\n",
       "    <tr>\n",
       "      <td>43</td>\n",
       "      <td>Calaveras County</td>\n",
       "      <td>45602</td>\n",
       "      <td>Male</td>\n",
       "      <td>2018.0</td>\n",
       "      <td>27</td>\n",
       "      <td>0.000592</td>\n",
       "    </tr>\n",
       "    <tr>\n",
       "      <td>41</td>\n",
       "      <td>San Benito County</td>\n",
       "      <td>61537</td>\n",
       "      <td>Male</td>\n",
       "      <td>2018.0</td>\n",
       "      <td>35</td>\n",
       "      <td>0.000569</td>\n",
       "    </tr>\n",
       "    <tr>\n",
       "      <td>53</td>\n",
       "      <td>Mono County</td>\n",
       "      <td>14250</td>\n",
       "      <td>Male</td>\n",
       "      <td>2018.0</td>\n",
       "      <td>7</td>\n",
       "      <td>0.000491</td>\n",
       "    </tr>\n",
       "  </tbody>\n",
       "</table>\n",
       "</div>"
      ],
      "text/plain": [
       "                    County  Population GENDER    YEAR  PROPERTY  Male Percent\n",
       "22  San Luis Obispo County      284010   Male  2018.0       245      0.000863\n",
       "45           Amador County       39383   Male  2018.0        30      0.000762\n",
       "43        Calaveras County       45602   Male  2018.0        27      0.000592\n",
       "41       San Benito County       61537   Male  2018.0        35      0.000569\n",
       "53             Mono County       14250   Male  2018.0         7      0.000491"
      ]
     },
     "execution_count": 10,
     "metadata": {},
     "output_type": "execute_result"
    }
   ],
   "source": [
    "# using similar code to the cell above, we can find the bottom 5 with the last 5 entries of top_male_counties\n",
    "\n",
    "bot_5_male_counties = top_male_counties[-5:]\n",
    "bot_5_male_counties"
   ]
  },
  {
   "cell_type": "markdown",
   "metadata": {},
   "source": [
    "##### The top 5 and bottom 5 counties for female arrests "
   ]
  },
  {
   "cell_type": "code",
   "execution_count": 11,
   "metadata": {},
   "outputs": [
    {
     "data": {
      "text/html": [
       "<div>\n",
       "<style scoped>\n",
       "    .dataframe tbody tr th:only-of-type {\n",
       "        vertical-align: middle;\n",
       "    }\n",
       "\n",
       "    .dataframe tbody tr th {\n",
       "        vertical-align: top;\n",
       "    }\n",
       "\n",
       "    .dataframe thead th {\n",
       "        text-align: right;\n",
       "    }\n",
       "</style>\n",
       "<table border=\"1\" class=\"dataframe\">\n",
       "  <thead>\n",
       "    <tr style=\"text-align: right;\">\n",
       "      <th></th>\n",
       "      <th>County</th>\n",
       "      <th>Population</th>\n",
       "      <th>GENDER</th>\n",
       "      <th>YEAR</th>\n",
       "      <th>PROPERTY</th>\n",
       "      <th>Female Percent</th>\n",
       "    </tr>\n",
       "  </thead>\n",
       "  <tbody>\n",
       "    <tr>\n",
       "      <td>56</td>\n",
       "      <td>Sierra County</td>\n",
       "      <td>2987</td>\n",
       "      <td>Female</td>\n",
       "      <td>2018.0</td>\n",
       "      <td>4</td>\n",
       "      <td>0.001339</td>\n",
       "    </tr>\n",
       "    <tr>\n",
       "      <td>4</td>\n",
       "      <td>San Bernardino County</td>\n",
       "      <td>2171603</td>\n",
       "      <td>Female</td>\n",
       "      <td>2018.0</td>\n",
       "      <td>1976</td>\n",
       "      <td>0.000910</td>\n",
       "    </tr>\n",
       "    <tr>\n",
       "      <td>57</td>\n",
       "      <td>Alpine County</td>\n",
       "      <td>1101</td>\n",
       "      <td>Female</td>\n",
       "      <td>2018.0</td>\n",
       "      <td>1</td>\n",
       "      <td>0.000908</td>\n",
       "    </tr>\n",
       "    <tr>\n",
       "      <td>39</td>\n",
       "      <td>Lake County</td>\n",
       "      <td>64382</td>\n",
       "      <td>Female</td>\n",
       "      <td>2018.0</td>\n",
       "      <td>56</td>\n",
       "      <td>0.000870</td>\n",
       "    </tr>\n",
       "    <tr>\n",
       "      <td>17</td>\n",
       "      <td>Tulare County</td>\n",
       "      <td>465861</td>\n",
       "      <td>Female</td>\n",
       "      <td>2018.0</td>\n",
       "      <td>403</td>\n",
       "      <td>0.000865</td>\n",
       "    </tr>\n",
       "  </tbody>\n",
       "</table>\n",
       "</div>"
      ],
      "text/plain": [
       "                   County  Population  GENDER    YEAR  PROPERTY  \\\n",
       "56          Sierra County        2987  Female  2018.0         4   \n",
       "4   San Bernardino County     2171603  Female  2018.0      1976   \n",
       "57          Alpine County        1101  Female  2018.0         1   \n",
       "39            Lake County       64382  Female  2018.0        56   \n",
       "17          Tulare County      465861  Female  2018.0       403   \n",
       "\n",
       "    Female Percent  \n",
       "56        0.001339  \n",
       "4         0.000910  \n",
       "57        0.000908  \n",
       "39        0.000870  \n",
       "17        0.000865  "
      ]
     },
     "execution_count": 11,
     "metadata": {},
     "output_type": "execute_result"
    }
   ],
   "source": [
    "# Similar to finding only male crimes, we'll find only female crimes in 2018\n",
    "\n",
    "female_crimes = df[df['GENDER'] != 'Male']\n",
    "female_crimes = female_crimes[female_crimes['YEAR'] == 2018]\n",
    "female_crimes = female_crimes.drop(columns=[\n",
    "                                   'VIOLENT', 'RACE', 'F_DRUGOFF', 'F_SEXOFF', 'F_ALLOTHER', 'F_TOTAL', 'M_TOTAL', 'S_TOTAL'])\n",
    "female_crimes = female_crimes.groupby(\n",
    "    ['GENDER', 'COUNTY', 'YEAR']).sum().reset_index()\n",
    "\n",
    "top_female_counties = container.join(\n",
    "    female_crimes.set_index('COUNTY'), on='County')\n",
    "top_female_counties = top_female_counties.drop(58, axis=0)\n",
    "\n",
    "top_female_counties = top_female_counties.astype(\n",
    "    {'PROPERTY': int, 'Population': int})\n",
    "female_percent = (\n",
    "    top_female_counties['PROPERTY']/top_female_counties['Population'])\n",
    "top_female_counties['Female Percent'] = female_percent\n",
    "\n",
    "top_female_counties = top_female_counties.sort_values(\n",
    "    'Female Percent', ascending=False)\n",
    "female_avg = top_female_counties['Female Percent'].mean()\n",
    "\n",
    "top_5_female_counties = top_female_counties[:5]\n",
    "top_female_counties.head()"
   ]
  },
  {
   "cell_type": "code",
   "execution_count": 12,
   "metadata": {},
   "outputs": [
    {
     "name": "stdout",
     "output_type": "stream",
     "text": [
      "The average crime rate per county amongst females is: 0.0005205123957174825\n"
     ]
    }
   ],
   "source": [
    "female_avg = top_female_counties['Female Percent'].mean()\n",
    "print(f'The average crime rate per county amongst females is: {female_avg}')"
   ]
  },
  {
   "cell_type": "code",
   "execution_count": 13,
   "metadata": {},
   "outputs": [
    {
     "data": {
      "text/html": [
       "<div>\n",
       "<style scoped>\n",
       "    .dataframe tbody tr th:only-of-type {\n",
       "        vertical-align: middle;\n",
       "    }\n",
       "\n",
       "    .dataframe tbody tr th {\n",
       "        vertical-align: top;\n",
       "    }\n",
       "\n",
       "    .dataframe thead th {\n",
       "        text-align: right;\n",
       "    }\n",
       "</style>\n",
       "<table border=\"1\" class=\"dataframe\">\n",
       "  <thead>\n",
       "    <tr style=\"text-align: right;\">\n",
       "      <th></th>\n",
       "      <th>County</th>\n",
       "      <th>Population</th>\n",
       "      <th>GENDER</th>\n",
       "      <th>YEAR</th>\n",
       "      <th>PROPERTY</th>\n",
       "      <th>Female Percent</th>\n",
       "    </tr>\n",
       "  </thead>\n",
       "  <tbody>\n",
       "    <tr>\n",
       "      <td>13</td>\n",
       "      <td>San Mateo County</td>\n",
       "      <td>769545</td>\n",
       "      <td>Female</td>\n",
       "      <td>2018.0</td>\n",
       "      <td>203</td>\n",
       "      <td>0.000264</td>\n",
       "    </tr>\n",
       "    <tr>\n",
       "      <td>41</td>\n",
       "      <td>San Benito County</td>\n",
       "      <td>61537</td>\n",
       "      <td>Female</td>\n",
       "      <td>2018.0</td>\n",
       "      <td>16</td>\n",
       "      <td>0.000260</td>\n",
       "    </tr>\n",
       "    <tr>\n",
       "      <td>45</td>\n",
       "      <td>Amador County</td>\n",
       "      <td>39383</td>\n",
       "      <td>Female</td>\n",
       "      <td>2018.0</td>\n",
       "      <td>10</td>\n",
       "      <td>0.000254</td>\n",
       "    </tr>\n",
       "    <tr>\n",
       "      <td>55</td>\n",
       "      <td>Modoc County</td>\n",
       "      <td>8777</td>\n",
       "      <td>Female</td>\n",
       "      <td>2018.0</td>\n",
       "      <td>2</td>\n",
       "      <td>0.000228</td>\n",
       "    </tr>\n",
       "    <tr>\n",
       "      <td>53</td>\n",
       "      <td>Mono County</td>\n",
       "      <td>14250</td>\n",
       "      <td>Female</td>\n",
       "      <td>2018.0</td>\n",
       "      <td>2</td>\n",
       "      <td>0.000140</td>\n",
       "    </tr>\n",
       "  </tbody>\n",
       "</table>\n",
       "</div>"
      ],
      "text/plain": [
       "               County  Population  GENDER    YEAR  PROPERTY  Female Percent\n",
       "13   San Mateo County      769545  Female  2018.0       203        0.000264\n",
       "41  San Benito County       61537  Female  2018.0        16        0.000260\n",
       "45      Amador County       39383  Female  2018.0        10        0.000254\n",
       "55       Modoc County        8777  Female  2018.0         2        0.000228\n",
       "53        Mono County       14250  Female  2018.0         2        0.000140"
      ]
     },
     "execution_count": 13,
     "metadata": {},
     "output_type": "execute_result"
    }
   ],
   "source": [
    "bot_5_female_counties = top_female_counties[-5:]\n",
    "bot_5_female_counties"
   ]
  },
  {
   "cell_type": "markdown",
   "metadata": {},
   "source": [
    "##### Use a Welch's T test for male and female percents for any statistical signicance in the means"
   ]
  },
  {
   "cell_type": "code",
   "execution_count": 14,
   "metadata": {},
   "outputs": [
    {
     "data": {
      "text/plain": [
       "Ttest_indResult(statistic=11.491664385097167, pvalue=3.341432470934707e-18)"
      ]
     },
     "execution_count": 14,
     "metadata": {},
     "output_type": "execute_result"
    }
   ],
   "source": [
    "males = top_male_counties['Male Percent']\n",
    "females = top_female_counties['Female Percent']\n",
    "welchs = stats.ttest_ind_from_stats(mean1=males.mean(), nobs1=len(males), std1=males.std(),\n",
    "                                    mean2=females.mean(), nobs2=len(females), std2=females.std(),\n",
    "                                    equal_var=False)\n",
    "welchs"
   ]
  },
  {
   "cell_type": "markdown",
   "metadata": {},
   "source": [
    "##### Graphing a histogram of male and female arrest percentages"
   ]
  },
  {
   "cell_type": "code",
   "execution_count": 15,
   "metadata": {},
   "outputs": [
    {
     "data": {
      "text/plain": [
       "Text(0, 0.5, 'Number of Counties')"
      ]
     },
     "execution_count": 15,
     "metadata": {},
     "output_type": "execute_result"
    },
    {
     "data": {
      "image/png": "[encoded data removed]",
      "text/plain": [
       "<Figure size 864x720 with 1 Axes>"
      ]
     },
     "metadata": {},
     "output_type": "display_data"
    }
   ],
   "source": [
    "sns.set(color_codes=True)\n",
    "sns.set(rc={'figure.figsize': (12, 10)})\n",
    "sns.distplot(males, label='males', kde=False)\n",
    "sns.distplot(females, label='females', kde=False)\n",
    "plt.legend()\n",
    "plt.title('Number of Counties and there Percent of Property Arrests')\n",
    "plt.xlabel('Percent')\n",
    "plt.ylabel('Number of Counties')"
   ]
  },
  {
   "cell_type": "markdown",
   "metadata": {},
   "source": [
    "### Combing my data with partners data"
   ]
  },
  {
   "cell_type": "code",
   "execution_count": 16,
   "metadata": {},
   "outputs": [
    {
     "data": {
      "text/html": [
       "<div>\n",
       "<style scoped>\n",
       "    .dataframe tbody tr th:only-of-type {\n",
       "        vertical-align: middle;\n",
       "    }\n",
       "\n",
       "    .dataframe tbody tr th {\n",
       "        vertical-align: top;\n",
       "    }\n",
       "\n",
       "    .dataframe thead th {\n",
       "        text-align: right;\n",
       "    }\n",
       "</style>\n",
       "<table border=\"1\" class=\"dataframe\">\n",
       "  <thead>\n",
       "    <tr style=\"text-align: right;\">\n",
       "      <th></th>\n",
       "      <th>County</th>\n",
       "      <th>ratio</th>\n",
       "    </tr>\n",
       "  </thead>\n",
       "  <tbody>\n",
       "    <tr>\n",
       "      <td>0</td>\n",
       "      <td>Butte</td>\n",
       "      <td>57814.000000</td>\n",
       "    </tr>\n",
       "    <tr>\n",
       "      <td>1</td>\n",
       "      <td>Contra Costa</td>\n",
       "      <td>42600.555556</td>\n",
       "    </tr>\n",
       "    <tr>\n",
       "      <td>2</td>\n",
       "      <td>Fresno</td>\n",
       "      <td>39776.000000</td>\n",
       "    </tr>\n",
       "    <tr>\n",
       "      <td>3</td>\n",
       "      <td>Imperial</td>\n",
       "      <td>90913.500000</td>\n",
       "    </tr>\n",
       "    <tr>\n",
       "      <td>4</td>\n",
       "      <td>Kern</td>\n",
       "      <td>49820.222222</td>\n",
       "    </tr>\n",
       "  </tbody>\n",
       "</table>\n",
       "</div>"
      ],
      "text/plain": [
       "         County         ratio\n",
       "0         Butte  57814.000000\n",
       "1  Contra Costa  42600.555556\n",
       "2        Fresno  39776.000000\n",
       "3      Imperial  90913.500000\n",
       "4          Kern  49820.222222"
      ]
     },
     "execution_count": 16,
     "metadata": {},
     "output_type": "execute_result"
    }
   ],
   "source": [
    "# His data was in two different csv files, so I concatenated the two for one big datafraeme\n",
    "\n",
    "df2 = pd.read_csv('lower-half-restaurants-ratio.csv')\n",
    "df3 = pd.read_csv('restaurant-ratios.csv')\n",
    "all_ratios = pd.concat([df2, df3])\n",
    "all_ratios.drop(columns=['Unnamed: 0'], inplace=True)\n",
    "all_ratios.head()"
   ]
  },
  {
   "cell_type": "code",
   "execution_count": 17,
   "metadata": {},
   "outputs": [
    {
     "data": {
      "text/html": [
       "<div>\n",
       "<style scoped>\n",
       "    .dataframe tbody tr th:only-of-type {\n",
       "        vertical-align: middle;\n",
       "    }\n",
       "\n",
       "    .dataframe tbody tr th {\n",
       "        vertical-align: top;\n",
       "    }\n",
       "\n",
       "    .dataframe thead th {\n",
       "        text-align: right;\n",
       "    }\n",
       "</style>\n",
       "<table border=\"1\" class=\"dataframe\">\n",
       "  <thead>\n",
       "    <tr style=\"text-align: right;\">\n",
       "      <th></th>\n",
       "      <th>County</th>\n",
       "      <th>population</th>\n",
       "      <th>year</th>\n",
       "      <th>property</th>\n",
       "      <th>percentage</th>\n",
       "    </tr>\n",
       "  </thead>\n",
       "  <tbody>\n",
       "    <tr>\n",
       "      <td>45</td>\n",
       "      <td>Sierra</td>\n",
       "      <td>2987</td>\n",
       "      <td>2018.0</td>\n",
       "      <td>15</td>\n",
       "      <td>0.005022</td>\n",
       "    </tr>\n",
       "    <tr>\n",
       "      <td>35</td>\n",
       "      <td>San Bernardino</td>\n",
       "      <td>2171603</td>\n",
       "      <td>2018.0</td>\n",
       "      <td>7310</td>\n",
       "      <td>0.003366</td>\n",
       "    </tr>\n",
       "    <tr>\n",
       "      <td>53</td>\n",
       "      <td>Tulare</td>\n",
       "      <td>465861</td>\n",
       "      <td>2018.0</td>\n",
       "      <td>1495</td>\n",
       "      <td>0.003209</td>\n",
       "    </tr>\n",
       "    <tr>\n",
       "      <td>14</td>\n",
       "      <td>Kern</td>\n",
       "      <td>896764</td>\n",
       "      <td>2018.0</td>\n",
       "      <td>2607</td>\n",
       "      <td>0.002907</td>\n",
       "    </tr>\n",
       "    <tr>\n",
       "      <td>50</td>\n",
       "      <td>Sutter</td>\n",
       "      <td>96807</td>\n",
       "      <td>2018.0</td>\n",
       "      <td>254</td>\n",
       "      <td>0.002624</td>\n",
       "    </tr>\n",
       "  </tbody>\n",
       "</table>\n",
       "</div>"
      ],
      "text/plain": [
       "            County  population    year  property  percentage\n",
       "45          Sierra        2987  2018.0        15    0.005022\n",
       "35  San Bernardino     2171603  2018.0      7310    0.003366\n",
       "53          Tulare      465861  2018.0      1495    0.003209\n",
       "14            Kern      896764  2018.0      2607    0.002907\n",
       "50          Sutter       96807  2018.0       254    0.002624"
      ]
     },
     "execution_count": 17,
     "metadata": {},
     "output_type": "execute_result"
    }
   ],
   "source": [
    "#  I wanted to rename my columns from all caps to a proper title. I also ran into the problem of etra white space in\n",
    "#  my County elements and my county names not exactly matching my partner's county names. I had the extra word,\n",
    "#  'County', so I had to remove that word.\n",
    "\n",
    "combined_table.rename(\n",
    "    columns={'YEAR': 'Year', 'PROPERTY': 'Property'}, inplace=True)\n",
    "combined_table.County = combined_table['County'].map(\n",
    "    lambda x: x.replace('County', ''))\n",
    "combined_table.County = combined_table.County.apply(lambda x: x.strip())\n",
    "combined_table.set_index('County').join(all_ratios.set_index('County'))\n",
    "combined_table.head()"
   ]
  },
  {
   "cell_type": "code",
   "execution_count": 18,
   "metadata": {},
   "outputs": [
    {
     "data": {
      "text/html": [
       "<div>\n",
       "<style scoped>\n",
       "    .dataframe tbody tr th:only-of-type {\n",
       "        vertical-align: middle;\n",
       "    }\n",
       "\n",
       "    .dataframe tbody tr th {\n",
       "        vertical-align: top;\n",
       "    }\n",
       "\n",
       "    .dataframe thead th {\n",
       "        text-align: right;\n",
       "    }\n",
       "</style>\n",
       "<table border=\"1\" class=\"dataframe\">\n",
       "  <thead>\n",
       "    <tr style=\"text-align: right;\">\n",
       "      <th></th>\n",
       "      <th>County</th>\n",
       "      <th>population</th>\n",
       "      <th>year</th>\n",
       "      <th>property</th>\n",
       "      <th>percentage</th>\n",
       "      <th>ratio</th>\n",
       "    </tr>\n",
       "  </thead>\n",
       "  <tbody>\n",
       "    <tr>\n",
       "      <td>28</td>\n",
       "      <td>Modoc</td>\n",
       "      <td>8777</td>\n",
       "      <td>2018.0</td>\n",
       "      <td>16</td>\n",
       "      <td>0.001823</td>\n",
       "      <td>8777.0</td>\n",
       "    </tr>\n",
       "    <tr>\n",
       "      <td>11</td>\n",
       "      <td>Del Norte</td>\n",
       "      <td>27828</td>\n",
       "      <td>2018.0</td>\n",
       "      <td>65</td>\n",
       "      <td>0.002336</td>\n",
       "      <td>13914.0</td>\n",
       "    </tr>\n",
       "    <tr>\n",
       "      <td>34</td>\n",
       "      <td>Glenn</td>\n",
       "      <td>28047</td>\n",
       "      <td>2018.0</td>\n",
       "      <td>47</td>\n",
       "      <td>0.001676</td>\n",
       "      <td>14023.5</td>\n",
       "    </tr>\n",
       "    <tr>\n",
       "      <td>39</td>\n",
       "      <td>Inyo</td>\n",
       "      <td>17987</td>\n",
       "      <td>2018.0</td>\n",
       "      <td>28</td>\n",
       "      <td>0.001557</td>\n",
       "      <td>17987.0</td>\n",
       "    </tr>\n",
       "    <tr>\n",
       "      <td>35</td>\n",
       "      <td>Colusa</td>\n",
       "      <td>21627</td>\n",
       "      <td>2018.0</td>\n",
       "      <td>36</td>\n",
       "      <td>0.001665</td>\n",
       "      <td>21627.0</td>\n",
       "    </tr>\n",
       "  </tbody>\n",
       "</table>\n",
       "</div>"
      ],
      "text/plain": [
       "       County  population    year  property  percentage    ratio\n",
       "28      Modoc        8777  2018.0        16    0.001823   8777.0\n",
       "11  Del Norte       27828  2018.0        65    0.002336  13914.0\n",
       "34      Glenn       28047  2018.0        47    0.001676  14023.5\n",
       "39       Inyo       17987  2018.0        28    0.001557  17987.0\n",
       "35     Colusa       21627  2018.0        36    0.001665  21627.0"
      ]
     },
     "execution_count": 18,
     "metadata": {},
     "output_type": "execute_result"
    }
   ],
   "source": [
    "# The final table is my data and my partner's combined and organized in descending order by ratio\n",
    "# The ratio is representative of people:restaurants\n",
    "\n",
    "final_table = pd.merge(combined_table, all_ratios,\n",
    "                       how='left', left_on='County', right_on='County')\n",
    "final_table = final_table.dropna(axis=0)\n",
    "final_table = final_table.sort_values(by='ratio', ascending=True)\n",
    "final_table.head()"
   ]
  },
  {
   "cell_type": "markdown",
   "metadata": {},
   "source": [
    "## Running a Two sample T test on our combined data"
   ]
  },
  {
   "cell_type": "code",
   "execution_count": 19,
   "metadata": {},
   "outputs": [
    {
     "data": {
      "text/plain": [
       "Ttest_indResult(statistic=-4.333598205256982, pvalue=0.00025732544882016537)"
      ]
     },
     "execution_count": 19,
     "metadata": {},
     "output_type": "execute_result"
    }
   ],
   "source": [
    "# My partner was testing the realtionship between county populations and ratio of fast food restaurants, and found a\n",
    "# half way mark, so I divided mine in half as well.\n",
    "\n",
    "top_half = final_table[:22]\n",
    "bot_half = final_table[23:]\n",
    "top_half_mean = top_half['ratio'].mean()\n",
    "bot_half_mean = bot_half['ratio'].mean()\n",
    "top_half_stdev = top_half['ratio'].std()\n",
    "bot_half_stdev = bot_half['ratio'].std()\n",
    "t_score = stats.ttest_ind_from_stats(mean1=top_half_mean, mean2=bot_half_mean, std1=top_half_stdev,\n",
    "                                     std2=bot_half_stdev, nobs1=len(top_half), nobs2=len(bot_half),\n",
    "                                     equal_var=False)\n",
    "t_score"
   ]
  },
  {
   "cell_type": "markdown",
   "metadata": {},
   "source": [
    "### Graphing the differences in male and female property arrets percents"
   ]
  },
  {
   "cell_type": "code",
   "execution_count": 20,
   "metadata": {},
   "outputs": [
    {
     "data": {
      "image/png": "[encoded data removed]",
      "text/plain": [
       "<Figure size 864x720 with 1 Axes>"
      ]
     },
     "metadata": {},
     "output_type": "display_data"
    }
   ],
   "source": [
    "new_males = top_male_counties.drop(columns=['Population', 'YEAR'])\n",
    "new_males.rename(columns={'GENDER': 'Gender'}, inplace=True)\n",
    "male_female_table = pd.concat([new_males, top_female_counties], axis=1, )\n",
    "male_female_table.rename(columns={'GENDER': 'Gender'}, inplace=True)\n",
    "scatter_df = male_female_table.loc[:, ~male_female_table.columns.duplicated()]\n",
    "scatter_df = scatter_df.melt(id_vars=['County'], value_vars=[\n",
    "                         'Female Percent', 'Male Percent'])\n",
    "ax = sns.scatterplot(data=scatter_df, x='County', y='value', hue='variable')\n",
    "plt.ylim((0, 0.0040))\n",
    "plt.ylabel('Percent')\n",
    "ax.set_xticklabels(rotation=90, labels=scatter_df.County.tolist())\n",
    "plt.tight_layout()"
   ]
  },
  {
   "cell_type": "markdown",
   "metadata": {},
   "source": [
    "## Testing the link between ff and property arrests"
   ]
  },
  {
   "cell_type": "code",
   "execution_count": 21,
   "metadata": {},
   "outputs": [],
   "source": [
    "# I know there are 58 rows in my combined_Table dataframe, so that's why 29 is used in the top and bottom half\n",
    "\n",
    "top_percent = combined_table[:29]\n",
    "bot_percent = combined_table[29:]"
   ]
  },
  {
   "cell_type": "code",
   "execution_count": 22,
   "metadata": {},
   "outputs": [
    {
     "data": {
      "text/plain": [
       "Ttest_indResult(statistic=-15.78698661496598, pvalue=3.9973190806132137e-13)"
      ]
     },
     "execution_count": 22,
     "metadata": {},
     "output_type": "execute_result"
    }
   ],
   "source": [
    "mean1 = top_percent['percentage'].mean()\n",
    "std1 = np.std(top_percent['percentage'])\n",
    "len1 = len(top_percent)\n",
    "mean2 = np.mean(top_half['ratio'])\n",
    "nobs2 = len(top_half['ratio'])\n",
    "std2 = np.std(top_half['ratio'])\n",
    "top_ff_crime = stats.ttest_ind_from_stats(mean1=mean1, std1=std1, nobs1=len1,\n",
    "                                          mean2=mean2, nobs2=nobs2, std2=std2,\n",
    "                                          equal_var=False)\n",
    "top_ff_crime"
   ]
  },
  {
   "cell_type": "code",
   "execution_count": 23,
   "metadata": {},
   "outputs": [
    {
     "data": {
      "text/plain": [
       "Ttest_indResult(statistic=-7.422123266990087, pvalue=2.6812323485950786e-07)"
      ]
     },
     "execution_count": 23,
     "metadata": {},
     "output_type": "execute_result"
    }
   ],
   "source": [
    "mean1 = bot_percent['percentage'].mean()\n",
    "std1 = np.std(bot_percent['percentage'])\n",
    "nobs1 = len(bot_percent['percentage'])\n",
    "mean2 = np.mean(bot_half['ratio'])\n",
    "std2 = np.std(bot_half['ratio'])\n",
    "nobs2 = len(bot_half['ratio'])\n",
    "bot_ff_crime = stats.ttest_ind_from_stats(mean1=mean1, std1=std1, nobs1=nobs1,\n",
    "                                          mean2=mean2, std2=std2, nobs2=nobs2,\n",
    "                                          equal_var=False)\n",
    "bot_ff_crime"
   ]
  },
  {
   "cell_type": "markdown",
   "metadata": {},
   "source": [
    "## Histogram of Property Crime Percents, Binned by County"
   ]
  },
  {
   "cell_type": "code",
   "execution_count": 24,
   "metadata": {},
   "outputs": [
    {
     "data": {
      "text/plain": [
       "Text(0.5, 1.0, 'Percent of Property Crimes and Counties')"
      ]
     },
     "execution_count": 24,
     "metadata": {},
     "output_type": "execute_result"
    },
    {
     "data": {
      "image/png": "[encoded data removed]",
      "text/plain": [
       "<Figure size 864x720 with 1 Axes>"
      ]
     },
     "metadata": {},
     "output_type": "display_data"
    }
   ],
   "source": [
    "sns.distplot(combined_table['percentage'])\n",
    "plt.title('Percent of Property Crimes and Counties')"
   ]
  },
  {
   "cell_type": "markdown",
   "metadata": {},
   "source": [
    "## Histogram of Population:Restaurant Ratio"
   ]
  },
  {
   "cell_type": "code",
   "execution_count": 25,
   "metadata": {},
   "outputs": [
    {
     "data": {
      "image/png": "[encoded data removed]",
      "text/plain": [
       "<Figure size 864x720 with 1 Axes>"
      ]
     },
     "metadata": {},
     "output_type": "display_data"
    }
   ],
   "source": [
    "ax = sns.distplot(all_ratios['ratio'])"
   ]
  },
  {
   "cell_type": "markdown",
   "metadata": {},
   "source": [
    "## Confidence Interval Test for Means of Property Arrests"
   ]
  },
  {
   "cell_type": "code",
   "execution_count": 26,
   "metadata": {},
   "outputs": [
    {
     "name": "stdout",
     "output_type": "stream",
     "text": [
      "Mean: 0.001882\n",
      "Confidence Interval 95%: 0.001668, 0.002097\n"
     ]
    }
   ],
   "source": [
    "from scipy.integrate import simps\n",
    "from scipy.stats import t\n",
    "\n",
    "import math\n",
    "# confidence interval of percent of property arrests\n",
    "mean = combined_table['percentage'].mean()\n",
    "# evaluate sample variance by setting delta degrees of freedom (ddof) to\n",
    "# 1. The degree used in calculations is N - ddof\n",
    "stddev = combined_table['percentage'].std()\n",
    "# Get the endpoints of the range that contains 95% of the distribution\n",
    "t_bounds = t.interval(0.95, 7)\n",
    "# sum mean to the confidence interval\n",
    "ci = [mean + critical * stddev /\n",
    "      np.sqrt(len(combined_table['percentage'])) for critical in t_bounds]\n",
    "print('Mean: %f' % mean)\n",
    "print('Confidence Interval 95%%: %f, %f' % (ci[0], ci[1]))"
   ]
  },
  {
   "cell_type": "markdown",
   "metadata": {},
   "source": [
    "I can say with 95% confidence, the range of mean values is between 0.001688 and 0.002097. This reflects the percent of property arrests in each county of CA. "
   ]
  }
 ],
 "metadata": {
  "kernelspec": {
   "display_name": "Python 3",
   "language": "python",
   "name": "python3"
  },
  "language_info": {
   "codemirror_mode": {
    "name": "ipython",
    "version": 3
   },
   "file_extension": ".py",
   "mimetype": "text/x-python",
   "name": "python",
   "nbconvert_exporter": "python",
   "pygments_lexer": "ipython3",
   "version": "3.7.4"
  }
 },
 "nbformat": 4,
 "nbformat_minor": 4
}
